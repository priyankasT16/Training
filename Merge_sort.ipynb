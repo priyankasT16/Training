{
  "nbformat": 4,
  "nbformat_minor": 0,
  "metadata": {
    "colab": {
      "name": "Merge_sort.ipynb",
      "provenance": [],
      "collapsed_sections": [],
      "authorship_tag": "ABX9TyMB/cFlujTsOB9UR/TTie3l",
      "include_colab_link": true
    },
    "kernelspec": {
      "name": "python3",
      "display_name": "Python 3"
    }
  },
  "cells": [
    {
      "cell_type": "markdown",
      "metadata": {
        "id": "view-in-github",
        "colab_type": "text"
      },
      "source": [
        "<a href=\"https://colab.research.google.com/github/priyankasT16/Training/blob/master/Merge_sort.ipynb\" target=\"_parent\"><img src=\"https://colab.research.google.com/assets/colab-badge.svg\" alt=\"Open In Colab\"/></a>"
      ]
    },
    {
      "cell_type": "code",
      "metadata": {
        "id": "FKCwAnMKrTqy",
        "colab_type": "code",
        "colab": {
          "base_uri": "https://localhost:8080/",
          "height": 680
        },
        "outputId": "dc5e68c9-0a4a-482f-bd70-f8a41dc3f6ed"
      },
      "source": [
        "class MergeSort(object):\n",
        "  def __init__(self,arr):\n",
        "    self.arr=arr\n",
        "  def merge_sort(self):\n",
        "    print('splitting'+str(self.arr))\n",
        "    if len(self.arr)>1:\n",
        "      m=len(self.arr)//2\n",
        "      left=self.arr[:m]\n",
        "      right=self.arr[m:]\n",
        "      leftsorter=MergeSort(left)\n",
        "      leftsorter.merge_sort()\n",
        "      rightsorter=MergeSort(right)\n",
        "      rightsorter.merge_sort()\n",
        "      i=0\n",
        "      j=0\n",
        "      k=0\n",
        "      while i < len(left) and j < len(right):\n",
        "        if left[i]<right[j]:\n",
        "          self.arr[k]=left[i]\n",
        "          i+=1\n",
        "        else:\n",
        "          self.arr[k]=right[j]\n",
        "          j+=1\n",
        "        k+=1\n",
        "      while i < len(left):\n",
        "        self.arr[k]=left[i]\n",
        "        i+=1\n",
        "        k+=1\n",
        "      while j < len(right):\n",
        "        self.arr[k]=right[j]\n",
        "        j+=1\n",
        "        k+=1\n",
        "    print('merging' + str(self.arr))\n",
        "    return(self.arr)\n",
        "\n",
        "\n",
        "x = MergeSort([3,5,6,2,1,4,10,9,8,7])\n",
        "print(x.merge_sort())\n"
      ],
      "execution_count": 21,
      "outputs": [
        {
          "output_type": "stream",
          "text": [
            "splitting[3, 5, 6, 2, 1, 4, 10, 9, 8, 7]\n",
            "splitting[3, 5, 6, 2, 1]\n",
            "splitting[3, 5]\n",
            "splitting[3]\n",
            "merging[3]\n",
            "splitting[5]\n",
            "merging[5]\n",
            "merging[3, 5]\n",
            "splitting[6, 2, 1]\n",
            "splitting[6]\n",
            "merging[6]\n",
            "splitting[2, 1]\n",
            "splitting[2]\n",
            "merging[2]\n",
            "splitting[1]\n",
            "merging[1]\n",
            "merging[1, 2]\n",
            "merging[1, 2, 6]\n",
            "merging[1, 2, 3, 5, 6]\n",
            "splitting[4, 10, 9, 8, 7]\n",
            "splitting[4, 10]\n",
            "splitting[4]\n",
            "merging[4]\n",
            "splitting[10]\n",
            "merging[10]\n",
            "merging[4, 10]\n",
            "splitting[9, 8, 7]\n",
            "splitting[9]\n",
            "merging[9]\n",
            "splitting[8, 7]\n",
            "splitting[8]\n",
            "merging[8]\n",
            "splitting[7]\n",
            "merging[7]\n",
            "merging[7, 8]\n",
            "merging[7, 8, 9]\n",
            "merging[4, 7, 8, 9, 10]\n",
            "merging[1, 2, 3, 4, 5, 6, 7, 8, 9, 10]\n",
            "[1, 2, 3, 4, 5, 6, 7, 8, 9, 10]\n"
          ],
          "name": "stdout"
        }
      ]
    }
  ]
}