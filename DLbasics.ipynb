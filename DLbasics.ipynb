{
  "nbformat": 4,
  "nbformat_minor": 0,
  "metadata": {
    "colab": {
      "name": "DLbasics.ipynb",
      "provenance": [],
      "toc_visible": true,
      "authorship_tag": "ABX9TyPJgSieGqFkmWYcHKMss7Hs",
      "include_colab_link": true
    },
    "kernelspec": {
      "name": "python3",
      "display_name": "Python 3"
    }
  },
  "cells": [
    {
      "cell_type": "markdown",
      "metadata": {
        "id": "view-in-github",
        "colab_type": "text"
      },
      "source": [
        "<a href=\"https://colab.research.google.com/github/priyankasT16/Training/blob/master/DLbasics.ipynb\" target=\"_parent\"><img src=\"https://colab.research.google.com/assets/colab-badge.svg\" alt=\"Open In Colab\"/></a>"
      ]
    },
    {
      "cell_type": "code",
      "metadata": {
        "id": "hiq0tvtF7Gr7",
        "colab_type": "code",
        "colab": {
          "base_uri": "https://localhost:8080/",
          "height": 357
        },
        "outputId": "a0a7b0bf-dad4-4748-9d01-f812c79b3b71"
      },
      "source": [
        "from tensorflow.keras.models import Sequential\n",
        "from tensorflow.keras.layers import Dense, Activation\n",
        "import numpy as np\n",
        "# Create a dataset for the XOR function\n",
        "x = np.array([\n",
        "    [0,0],\n",
        "    [1,0],\n",
        "    [0,1],\n",
        "    [1,1]\n",
        "])\n",
        "y = np.array([\n",
        "    0,\n",
        "    1,\n",
        "    1,\n",
        "    0\n",
        "])\n",
        "done = False\n",
        "cycle = 1\n",
        "while not done:\n",
        "    print(\"Cycle #{}\".format(cycle))\n",
        "    cycle+=1\n",
        "    model = Sequential()\n",
        "    model.add(Dense(2, input_dim=2, activation='relu')) \n",
        "    model.add(Dense(1)) \n",
        "    model.compile(loss='mean_squared_error', optimizer='adam')\n",
        "    model.fit(x,y,verbose=0,epochs=10000)\n",
        "    pred=model.predict(x)\n",
        "    done = pred[0]<0.01 and pred[3]<0.01 and pred[1] > 0.9 and pred[2] > 0.9 \n",
        "    print(pred)"
      ],
      "execution_count": 2,
      "outputs": [
        {
          "output_type": "stream",
          "text": [
            "Cycle #1\n",
            "[[0.49999997]\n",
            " [0.49999997]\n",
            " [0.49999997]\n",
            " [0.49999997]]\n",
            "Cycle #2\n",
            "[[4.9999994e-01]\n",
            " [4.9999994e-01]\n",
            " [1.0000000e+00]\n",
            " [2.9802322e-08]]\n",
            "Cycle #3\n",
            "[[0.49999997]\n",
            " [0.49999997]\n",
            " [1.        ]\n",
            " [0.        ]]\n",
            "Cycle #4\n",
            "[[7.4505806e-09]\n",
            " [9.9999946e-01]\n",
            " [9.9999994e-01]\n",
            " [5.3271651e-07]]\n"
          ],
          "name": "stdout"
        }
      ]
    },
    {
      "cell_type": "code",
      "metadata": {
        "id": "8fliL4G982rY",
        "colab_type": "code",
        "colab": {}
      },
      "source": [
        "for "
      ],
      "execution_count": 0,
      "outputs": []
    }
  ]
}